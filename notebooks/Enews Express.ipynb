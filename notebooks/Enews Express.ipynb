{
  "nbformat": 4,
  "nbformat_minor": 5,
  "metadata": {
    "kernelspec": {
      "display_name": "Python 3",
      "language": "python",
      "name": "python3"
    },
    "language_info": {
      "codemirror_mode": {
        "name": "ipython",
        "version": 3
      },
      "file_extension": ".py",
      "mimetype": "text/x-python",
      "name": "python",
      "nbconvert_exporter": "python",
      "pygments_lexer": "ipython3",
      "version": "3.8.8"
    },
    "colab": {
      "name": "E-News Express_Learner Notebook[Full Code Version].ipynb",
      "provenance": [],
      "collapsed_sections": []
    }
  },
  "cells": [
    {
      "cell_type": "markdown",
      "metadata": {
        "id": "6yDxo9u0d9Na"
      },
      "source": [
        "# Project Business Statistics: E-news Express\n",
        "\n",
        "**Marks: 60**"
      ],
      "id": "6yDxo9u0d9Na"
    },
    {
      "cell_type": "markdown",
      "metadata": {
        "id": "SrLd-ICEmPSD"
      },
      "source": [
        "## Define Problem Statement and Objectives"
      ],
      "id": "SrLd-ICEmPSD"
    },
    {
      "cell_type": "markdown",
      "metadata": {
        "id": "9Vt1PLLqmXNn"
      },
      "source": [
        "###Business Context\n",
        "The advent of e-news, or electronic news, portals has offered us a great opportunity to quickly get updates on the day-to-day events occurring globally. The information on these portals is retrieved electronically from online databases, processed using a variety of software, and then transmitted to the users. There are multiple advantages of transmitting news electronically, like faster access to the content and the ability to utilize different technologies such as audio, graphics, video, and other interactive elements that are either not being used or aren’t common yet in traditional newspapers.\n",
        "\n",
        "E-news Express, an online news portal, aims to expand its business by acquiring new subscribers. With every visitor to the website taking certain actions based on their interest, the company plans to analyze these actions to understand user interests and determine how to drive better engagement. The executives at E-news Express are of the opinion that there has been a decline in new monthly subscribers compared to the past year because the current webpage is not designed well enough in terms of the outline & recommended content to keep customers engaged long enough to make a decision to subscribe.\n",
        "\n",
        "###Objective\n",
        "The design team of the company has researched and created a new landing page that has a new outline & more relevant content shown compared to the old page. In order to test the effectiveness of the new landing page in gathering new subscribers, the Data Science team conducted an experiment by randomly selecting 100 users and dividing them equally into two groups. The existing landing page was served to the first group (control group) and the new landing page to the second group (treatment group). Data regarding the interaction of users in both groups with the two versions of the landing page was collected. Being a data scientist in E-news Express, you have been asked to explore the data and perform a statistical analysis (at a significance level of 5%) to determine the effectiveness of the new landing page in gathering new subscribers for the news portal.\n",
        "\n",
        "### Questions:\n",
        "\n",
        "1. Do the users spend more time on the new landing page than on the existing landing page?\n",
        "2. Is the conversion rate (the proportion of users who visit the landing page and get converted) for the new page greater than the conversion rate for the old page?\n",
        "3. Does the converted status depend on the preferred language?\n",
        "4. Is the time spent on the new page the same for the different language users?\n",
        "\n",
        "###Data Dictionary\n",
        "The data contains information regarding the interaction of users in both groups with the two versions of the landing page.\n",
        "\n",
        "* user_id - Unique user ID of the person visiting the website\n",
        "* group - Whether the user belongs to the first group (control) or the second group (treatment)\n",
        "* landing_page - Whether the landing page is new or old\n",
        "* time_spent_on_the_page - Time (in minutes) spent by the user on the landing page\n",
        "* converted - Whether the user gets converted to a subscriber of the news portal or not\n",
        "* language_preferred - Language chosen by the user to view the landing page"
      ],
      "id": "9Vt1PLLqmXNn"
    },
    {
      "cell_type": "markdown",
      "metadata": {
        "id": "a6a3d218"
      },
      "source": [
        "## Import all the necessary libraries"
      ],
      "id": "a6a3d218"
    },
    {
      "cell_type": "code",
      "metadata": {
        "id": "658c5dec"
      },
      "source": [
        "# Libraries to help with reading and manipulating data\n",
        "import numpy as np\n",
        "import pandas as pd\n",
        "\n",
        "# Libraries to help with data visualization\n",
        "import matplotlib.pyplot as plt\n",
        "import seaborn as sns\n",
        "%matplotlib inline \n",
        "\n",
        "# Library to help with statistical analysis\n",
        "import scipy.stats as stats "
      ],
      "id": "658c5dec",
      "execution_count": null,
      "outputs": []
    },
    {
      "cell_type": "markdown",
      "metadata": {
        "id": "6970dd99"
      },
      "source": [
        "## Reading the Data into a DataFrame"
      ],
      "id": "6970dd99"
    },
    {
      "cell_type": "code",
      "metadata": {
        "id": "d3b95640"
      },
      "source": [
        "data = pd.read_csv('Abtest.csv')"
      ],
      "id": "d3b95640",
      "execution_count": null,
      "outputs": []
    },
    {
      "cell_type": "code",
      "source": [
        "# copying data to another variable to avoid any changes to original data\n",
        "df = data.copy()"
      ],
      "metadata": {
        "id": "mohzsb2uqUUi"
      },
      "id": "mohzsb2uqUUi",
      "execution_count": null,
      "outputs": []
    },
    {
      "cell_type": "markdown",
      "metadata": {
        "id": "9d75cfa2"
      },
      "source": [
        "## Explore the dataset and extract insights using Exploratory Data Analysis"
      ],
      "id": "9d75cfa2"
    },
    {
      "cell_type": "markdown",
      "metadata": {
        "id": "27201534"
      },
      "source": [
        "###Data Overview\n",
        "  \n",
        "The initial steps to get an overview of any dataset is to perform a sanity check by:\n",
        "\n",
        "* Observing the first few rows of the dataset, to check whether the dataset has been loaded properly or not\n",
        "* Getting information about the number of rows and columns in the dataset\n",
        "* Finding out the data types of the columns to ensure that data is stored in the preferred format and the value of each property is as expected.\n",
        "* Checking the statistical summary of the dataset to get an overview of the numerical columns of the data\n",
        "* Checking for missing values and duplicate"
      ],
      "id": "27201534"
    },
    {
      "cell_type": "code",
      "metadata": {
        "id": "e1ad11d4",
        "colab": {
          "base_uri": "https://localhost:8080/",
          "height": 206
        },
        "outputId": "08b0ad10-1afc-4d04-934c-4ac0fb6b647f"
      },
      "source": [
        "# The Head() returns the first 5 rows of the dataframe\n",
        "df.head()"
      ],
      "id": "e1ad11d4",
      "execution_count": null,
      "outputs": [
        {
          "output_type": "execute_result",
          "data": {
            "text/plain": [
              "   user_id      group landing_page  time_spent_on_the_page converted  \\\n",
              "0   546592    control          old                    3.48        no   \n",
              "1   546468  treatment          new                    7.13       yes   \n",
              "2   546462  treatment          new                    4.40        no   \n",
              "3   546567    control          old                    3.02        no   \n",
              "4   546459  treatment          new                    4.75       yes   \n",
              "\n",
              "  language_preferred  \n",
              "0            Spanish  \n",
              "1            English  \n",
              "2            Spanish  \n",
              "3             French  \n",
              "4            Spanish  "
            ],
            "text/html": [
              "\n",
              "  <div id=\"df-b5a0e2a6-7080-417c-8898-a23aa031336f\">\n",
              "    <div class=\"colab-df-container\">\n",
              "      <div>\n",
              "<style scoped>\n",
              "    .dataframe tbody tr th:only-of-type {\n",
              "        vertical-align: middle;\n",
              "    }\n",
              "\n",
              "    .dataframe tbody tr th {\n",
              "        vertical-align: top;\n",
              "    }\n",
              "\n",
              "    .dataframe thead th {\n",
              "        text-align: right;\n",
              "    }\n",
              "</style>\n",
              "<table border=\"1\" class=\"dataframe\">\n",
              "  <thead>\n",
              "    <tr style=\"text-align: right;\">\n",
              "      <th></th>\n",
              "      <th>user_id</th>\n",
              "      <th>group</th>\n",
              "      <th>landing_page</th>\n",
              "      <th>time_spent_on_the_page</th>\n",
              "      <th>converted</th>\n",
              "      <th>language_preferred</th>\n",
              "    </tr>\n",
              "  </thead>\n",
              "  <tbody>\n",
              "    <tr>\n",
              "      <th>0</th>\n",
              "      <td>546592</td>\n",
              "      <td>control</td>\n",
              "      <td>old</td>\n",
              "      <td>3.48</td>\n",
              "      <td>no</td>\n",
              "      <td>Spanish</td>\n",
              "    </tr>\n",
              "    <tr>\n",
              "      <th>1</th>\n",
              "      <td>546468</td>\n",
              "      <td>treatment</td>\n",
              "      <td>new</td>\n",
              "      <td>7.13</td>\n",
              "      <td>yes</td>\n",
              "      <td>English</td>\n",
              "    </tr>\n",
              "    <tr>\n",
              "      <th>2</th>\n",
              "      <td>546462</td>\n",
              "      <td>treatment</td>\n",
              "      <td>new</td>\n",
              "      <td>4.40</td>\n",
              "      <td>no</td>\n",
              "      <td>Spanish</td>\n",
              "    </tr>\n",
              "    <tr>\n",
              "      <th>3</th>\n",
              "      <td>546567</td>\n",
              "      <td>control</td>\n",
              "      <td>old</td>\n",
              "      <td>3.02</td>\n",
              "      <td>no</td>\n",
              "      <td>French</td>\n",
              "    </tr>\n",
              "    <tr>\n",
              "      <th>4</th>\n",
              "      <td>546459</td>\n",
              "      <td>treatment</td>\n",
              "      <td>new</td>\n",
              "      <td>4.75</td>\n",
              "      <td>yes</td>\n",
              "      <td>Spanish</td>\n",
              "    </tr>\n",
              "  </tbody>\n",
              "</table>\n",
              "</div>\n",
              "      <button class=\"colab-df-convert\" onclick=\"convertToInteractive('df-b5a0e2a6-7080-417c-8898-a23aa031336f')\"\n",
              "              title=\"Convert this dataframe to an interactive table.\"\n",
              "              style=\"display:none;\">\n",
              "        \n",
              "  <svg xmlns=\"http://www.w3.org/2000/svg\" height=\"24px\"viewBox=\"0 0 24 24\"\n",
              "       width=\"24px\">\n",
              "    <path d=\"M0 0h24v24H0V0z\" fill=\"none\"/>\n",
              "    <path d=\"M18.56 5.44l.94 2.06.94-2.06 2.06-.94-2.06-.94-.94-2.06-.94 2.06-2.06.94zm-11 1L8.5 8.5l.94-2.06 2.06-.94-2.06-.94L8.5 2.5l-.94 2.06-2.06.94zm10 10l.94 2.06.94-2.06 2.06-.94-2.06-.94-.94-2.06-.94 2.06-2.06.94z\"/><path d=\"M17.41 7.96l-1.37-1.37c-.4-.4-.92-.59-1.43-.59-.52 0-1.04.2-1.43.59L10.3 9.45l-7.72 7.72c-.78.78-.78 2.05 0 2.83L4 21.41c.39.39.9.59 1.41.59.51 0 1.02-.2 1.41-.59l7.78-7.78 2.81-2.81c.8-.78.8-2.07 0-2.86zM5.41 20L4 18.59l7.72-7.72 1.47 1.35L5.41 20z\"/>\n",
              "  </svg>\n",
              "      </button>\n",
              "      \n",
              "  <style>\n",
              "    .colab-df-container {\n",
              "      display:flex;\n",
              "      flex-wrap:wrap;\n",
              "      gap: 12px;\n",
              "    }\n",
              "\n",
              "    .colab-df-convert {\n",
              "      background-color: #E8F0FE;\n",
              "      border: none;\n",
              "      border-radius: 50%;\n",
              "      cursor: pointer;\n",
              "      display: none;\n",
              "      fill: #1967D2;\n",
              "      height: 32px;\n",
              "      padding: 0 0 0 0;\n",
              "      width: 32px;\n",
              "    }\n",
              "\n",
              "    .colab-df-convert:hover {\n",
              "      background-color: #E2EBFA;\n",
              "      box-shadow: 0px 1px 2px rgba(60, 64, 67, 0.3), 0px 1px 3px 1px rgba(60, 64, 67, 0.15);\n",
              "      fill: #174EA6;\n",
              "    }\n",
              "\n",
              "    [theme=dark] .colab-df-convert {\n",
              "      background-color: #3B4455;\n",
              "      fill: #D2E3FC;\n",
              "    }\n",
              "\n",
              "    [theme=dark] .colab-df-convert:hover {\n",
              "      background-color: #434B5C;\n",
              "      box-shadow: 0px 1px 3px 1px rgba(0, 0, 0, 0.15);\n",
              "      filter: drop-shadow(0px 1px 2px rgba(0, 0, 0, 0.3));\n",
              "      fill: #FFFFFF;\n",
              "    }\n",
              "  </style>\n",
              "\n",
              "      <script>\n",
              "        const buttonEl =\n",
              "          document.querySelector('#df-b5a0e2a6-7080-417c-8898-a23aa031336f button.colab-df-convert');\n",
              "        buttonEl.style.display =\n",
              "          google.colab.kernel.accessAllowed ? 'block' : 'none';\n",
              "\n",
              "        async function convertToInteractive(key) {\n",
              "          const element = document.querySelector('#df-b5a0e2a6-7080-417c-8898-a23aa031336f');\n",
              "          const dataTable =\n",
              "            await google.colab.kernel.invokeFunction('convertToInteractive',\n",
              "                                                     [key], {});\n",
              "          if (!dataTable) return;\n",
              "\n",
              "          const docLinkHtml = 'Like what you see? Visit the ' +\n",
              "            '<a target=\"_blank\" href=https://colab.research.google.com/notebooks/data_table.ipynb>data table notebook</a>'\n",
              "            + ' to learn more about interactive tables.';\n",
              "          element.innerHTML = '';\n",
              "          dataTable['output_type'] = 'display_data';\n",
              "          await google.colab.output.renderOutput(dataTable, element);\n",
              "          const docLink = document.createElement('div');\n",
              "          docLink.innerHTML = docLinkHtml;\n",
              "          element.appendChild(docLink);\n",
              "        }\n",
              "      </script>\n",
              "    </div>\n",
              "  </div>\n",
              "  "
            ]
          },
          "metadata": {},
          "execution_count": 31
        }
      ]
    },
    {
      "cell_type": "markdown",
      "source": [
        "* The dataset contains the user ID of each person visitig the website with their specific group,the kind of landing page visited, time spent on the page, conversion type and language preferred.\n",
        "* The columns user_id and time_spent_on_the_page are numerical in nature."
      ],
      "metadata": {
        "id": "4f8HialVzVRR"
      },
      "id": "4f8HialVzVRR"
    },
    {
      "cell_type": "code",
      "source": [
        "# The shape() is used to get the number of rows and columns of the dataset\n",
        "df.shape"
      ],
      "metadata": {
        "colab": {
          "base_uri": "https://localhost:8080/"
        },
        "id": "jmm_z8cr39pY",
        "outputId": "d61871d9-cc50-4cb0-d06b-9d275e45913f"
      },
      "id": "jmm_z8cr39pY",
      "execution_count": null,
      "outputs": [
        {
          "output_type": "execute_result",
          "data": {
            "text/plain": [
              "(100, 6)"
            ]
          },
          "metadata": {},
          "execution_count": 32
        }
      ]
    },
    {
      "cell_type": "markdown",
      "source": [
        "* There are **100 rows** and **6 columns** in the dataset which represents information regarding the interaction of users in both treatment and control groups with the two versions of the landing page."
      ],
      "metadata": {
        "id": "KxM0hTYu4OHj"
      },
      "id": "KxM0hTYu4OHj"
    },
    {
      "cell_type": "code",
      "source": [
        "# The info() is used to print a concise summary of the Dataset\n",
        "df.info()"
      ],
      "metadata": {
        "colab": {
          "base_uri": "https://localhost:8080/"
        },
        "id": "TuqyuiuD5oVI",
        "outputId": "5499ef3d-c56f-43ae-84ce-f7d3b44ee752"
      },
      "id": "TuqyuiuD5oVI",
      "execution_count": null,
      "outputs": [
        {
          "output_type": "stream",
          "name": "stdout",
          "text": [
            "<class 'pandas.core.frame.DataFrame'>\n",
            "RangeIndex: 100 entries, 0 to 99\n",
            "Data columns (total 6 columns):\n",
            " #   Column                  Non-Null Count  Dtype  \n",
            "---  ------                  --------------  -----  \n",
            " 0   user_id                 100 non-null    int64  \n",
            " 1   group                   100 non-null    object \n",
            " 2   landing_page            100 non-null    object \n",
            " 3   time_spent_on_the_page  100 non-null    float64\n",
            " 4   converted               100 non-null    object \n",
            " 5   language_preferred      100 non-null    object \n",
            "dtypes: float64(1), int64(1), object(4)\n",
            "memory usage: 4.8+ KB\n"
          ]
        }
      ]
    },
    {
      "cell_type": "markdown",
      "source": [
        "* The user_id is an integer data-type and it contain user ID of each person visiting the landing page\n",
        "* The time_spent_on_the_page is a float data-type\n",
        "* The group, landing page, converted, and language_preferred are object data-type.\n",
        "* All the columns have 100 observations, which means none of the columns has null values\n",
        "* The dataset consumed 4.8+ KB memory usage."
      ],
      "metadata": {
        "id": "lMh42BUB58-S"
      },
      "id": "lMh42BUB58-S"
    },
    {
      "cell_type": "code",
      "source": [
        "# checking missing values across each columns\n",
        "df.isnull().sum()"
      ],
      "metadata": {
        "colab": {
          "base_uri": "https://localhost:8080/"
        },
        "id": "fhZMnerN7u15",
        "outputId": "01618b35-e091-4643-c2fa-a983320b4472"
      },
      "id": "fhZMnerN7u15",
      "execution_count": null,
      "outputs": [
        {
          "output_type": "execute_result",
          "data": {
            "text/plain": [
              "user_id                   0\n",
              "group                     0\n",
              "landing_page              0\n",
              "time_spent_on_the_page    0\n",
              "converted                 0\n",
              "language_preferred        0\n",
              "dtype: int64"
            ]
          },
          "metadata": {},
          "execution_count": 34
        }
      ]
    },
    {
      "cell_type": "markdown",
      "source": [
        "* There are no missing values in the dataset, hence no need of treating them"
      ],
      "metadata": {
        "id": "PNx9Uxql73AY"
      },
      "id": "PNx9Uxql73AY"
    },
    {
      "cell_type": "code",
      "source": [
        "# checking duplicate values across each columns\n",
        "df.duplicated().sum()"
      ],
      "metadata": {
        "colab": {
          "base_uri": "https://localhost:8080/"
        },
        "id": "Kk3k-HxWhp1i",
        "outputId": "21875471-b4f1-42a1-9a39-4fa7f252a29e"
      },
      "id": "Kk3k-HxWhp1i",
      "execution_count": null,
      "outputs": [
        {
          "output_type": "execute_result",
          "data": {
            "text/plain": [
              "0"
            ]
          },
          "metadata": {},
          "execution_count": 39
        }
      ]
    },
    {
      "cell_type": "markdown",
      "source": [
        "* There are no duplicate values in the dataset"
      ],
      "metadata": {
        "id": "xRHp_6wskjTI"
      },
      "id": "xRHp_6wskjTI"
    },
    {
      "cell_type": "code",
      "source": [
        "# The describe() is used to get the statistical summary of the dataset\n",
        "df.describe()"
      ],
      "metadata": {
        "colab": {
          "base_uri": "https://localhost:8080/",
          "height": 300
        },
        "id": "t7unSiLS8sE9",
        "outputId": "d94e78f3-1d4a-4ed5-aa1e-c7737c6f1c83"
      },
      "id": "t7unSiLS8sE9",
      "execution_count": null,
      "outputs": [
        {
          "output_type": "execute_result",
          "data": {
            "text/plain": [
              "             user_id  time_spent_on_the_page\n",
              "count     100.000000              100.000000\n",
              "mean   546517.000000                5.377800\n",
              "std        52.295779                2.378166\n",
              "min    546443.000000                0.190000\n",
              "25%    546467.750000                3.880000\n",
              "50%    546492.500000                5.415000\n",
              "75%    546567.250000                7.022500\n",
              "max    546592.000000               10.710000"
            ],
            "text/html": [
              "\n",
              "  <div id=\"df-5fe05180-87df-4afe-85b6-9b017100fd61\">\n",
              "    <div class=\"colab-df-container\">\n",
              "      <div>\n",
              "<style scoped>\n",
              "    .dataframe tbody tr th:only-of-type {\n",
              "        vertical-align: middle;\n",
              "    }\n",
              "\n",
              "    .dataframe tbody tr th {\n",
              "        vertical-align: top;\n",
              "    }\n",
              "\n",
              "    .dataframe thead th {\n",
              "        text-align: right;\n",
              "    }\n",
              "</style>\n",
              "<table border=\"1\" class=\"dataframe\">\n",
              "  <thead>\n",
              "    <tr style=\"text-align: right;\">\n",
              "      <th></th>\n",
              "      <th>user_id</th>\n",
              "      <th>time_spent_on_the_page</th>\n",
              "    </tr>\n",
              "  </thead>\n",
              "  <tbody>\n",
              "    <tr>\n",
              "      <th>count</th>\n",
              "      <td>100.000000</td>\n",
              "      <td>100.000000</td>\n",
              "    </tr>\n",
              "    <tr>\n",
              "      <th>mean</th>\n",
              "      <td>546517.000000</td>\n",
              "      <td>5.377800</td>\n",
              "    </tr>\n",
              "    <tr>\n",
              "      <th>std</th>\n",
              "      <td>52.295779</td>\n",
              "      <td>2.378166</td>\n",
              "    </tr>\n",
              "    <tr>\n",
              "      <th>min</th>\n",
              "      <td>546443.000000</td>\n",
              "      <td>0.190000</td>\n",
              "    </tr>\n",
              "    <tr>\n",
              "      <th>25%</th>\n",
              "      <td>546467.750000</td>\n",
              "      <td>3.880000</td>\n",
              "    </tr>\n",
              "    <tr>\n",
              "      <th>50%</th>\n",
              "      <td>546492.500000</td>\n",
              "      <td>5.415000</td>\n",
              "    </tr>\n",
              "    <tr>\n",
              "      <th>75%</th>\n",
              "      <td>546567.250000</td>\n",
              "      <td>7.022500</td>\n",
              "    </tr>\n",
              "    <tr>\n",
              "      <th>max</th>\n",
              "      <td>546592.000000</td>\n",
              "      <td>10.710000</td>\n",
              "    </tr>\n",
              "  </tbody>\n",
              "</table>\n",
              "</div>\n",
              "      <button class=\"colab-df-convert\" onclick=\"convertToInteractive('df-5fe05180-87df-4afe-85b6-9b017100fd61')\"\n",
              "              title=\"Convert this dataframe to an interactive table.\"\n",
              "              style=\"display:none;\">\n",
              "        \n",
              "  <svg xmlns=\"http://www.w3.org/2000/svg\" height=\"24px\"viewBox=\"0 0 24 24\"\n",
              "       width=\"24px\">\n",
              "    <path d=\"M0 0h24v24H0V0z\" fill=\"none\"/>\n",
              "    <path d=\"M18.56 5.44l.94 2.06.94-2.06 2.06-.94-2.06-.94-.94-2.06-.94 2.06-2.06.94zm-11 1L8.5 8.5l.94-2.06 2.06-.94-2.06-.94L8.5 2.5l-.94 2.06-2.06.94zm10 10l.94 2.06.94-2.06 2.06-.94-2.06-.94-.94-2.06-.94 2.06-2.06.94z\"/><path d=\"M17.41 7.96l-1.37-1.37c-.4-.4-.92-.59-1.43-.59-.52 0-1.04.2-1.43.59L10.3 9.45l-7.72 7.72c-.78.78-.78 2.05 0 2.83L4 21.41c.39.39.9.59 1.41.59.51 0 1.02-.2 1.41-.59l7.78-7.78 2.81-2.81c.8-.78.8-2.07 0-2.86zM5.41 20L4 18.59l7.72-7.72 1.47 1.35L5.41 20z\"/>\n",
              "  </svg>\n",
              "      </button>\n",
              "      \n",
              "  <style>\n",
              "    .colab-df-container {\n",
              "      display:flex;\n",
              "      flex-wrap:wrap;\n",
              "      gap: 12px;\n",
              "    }\n",
              "\n",
              "    .colab-df-convert {\n",
              "      background-color: #E8F0FE;\n",
              "      border: none;\n",
              "      border-radius: 50%;\n",
              "      cursor: pointer;\n",
              "      display: none;\n",
              "      fill: #1967D2;\n",
              "      height: 32px;\n",
              "      padding: 0 0 0 0;\n",
              "      width: 32px;\n",
              "    }\n",
              "\n",
              "    .colab-df-convert:hover {\n",
              "      background-color: #E2EBFA;\n",
              "      box-shadow: 0px 1px 2px rgba(60, 64, 67, 0.3), 0px 1px 3px 1px rgba(60, 64, 67, 0.15);\n",
              "      fill: #174EA6;\n",
              "    }\n",
              "\n",
              "    [theme=dark] .colab-df-convert {\n",
              "      background-color: #3B4455;\n",
              "      fill: #D2E3FC;\n",
              "    }\n",
              "\n",
              "    [theme=dark] .colab-df-convert:hover {\n",
              "      background-color: #434B5C;\n",
              "      box-shadow: 0px 1px 3px 1px rgba(0, 0, 0, 0.15);\n",
              "      filter: drop-shadow(0px 1px 2px rgba(0, 0, 0, 0.3));\n",
              "      fill: #FFFFFF;\n",
              "    }\n",
              "  </style>\n",
              "\n",
              "      <script>\n",
              "        const buttonEl =\n",
              "          document.querySelector('#df-5fe05180-87df-4afe-85b6-9b017100fd61 button.colab-df-convert');\n",
              "        buttonEl.style.display =\n",
              "          google.colab.kernel.accessAllowed ? 'block' : 'none';\n",
              "\n",
              "        async function convertToInteractive(key) {\n",
              "          const element = document.querySelector('#df-5fe05180-87df-4afe-85b6-9b017100fd61');\n",
              "          const dataTable =\n",
              "            await google.colab.kernel.invokeFunction('convertToInteractive',\n",
              "                                                     [key], {});\n",
              "          if (!dataTable) return;\n",
              "\n",
              "          const docLinkHtml = 'Like what you see? Visit the ' +\n",
              "            '<a target=\"_blank\" href=https://colab.research.google.com/notebooks/data_table.ipynb>data table notebook</a>'\n",
              "            + ' to learn more about interactive tables.';\n",
              "          element.innerHTML = '';\n",
              "          dataTable['output_type'] = 'display_data';\n",
              "          await google.colab.output.renderOutput(dataTable, element);\n",
              "          const docLink = document.createElement('div');\n",
              "          docLink.innerHTML = docLinkHtml;\n",
              "          element.appendChild(docLink);\n",
              "        }\n",
              "      </script>\n",
              "    </div>\n",
              "  </div>\n",
              "  "
            ]
          },
          "metadata": {},
          "execution_count": 41
        }
      ]
    },
    {
      "cell_type": "code",
      "source": [
        "# In order to make the statistical summary easier to read, the describe() is transposed\n",
        "df.describe().T"
      ],
      "metadata": {
        "colab": {
          "base_uri": "https://localhost:8080/",
          "height": 112
        },
        "id": "vLAzrm4E823h",
        "outputId": "6427a00c-d5c9-4e4e-d20d-a1949488f377"
      },
      "id": "vLAzrm4E823h",
      "execution_count": null,
      "outputs": [
        {
          "output_type": "execute_result",
          "data": {
            "text/plain": [
              "                        count         mean        std        min        25%  \\\n",
              "user_id                 100.0  546517.0000  52.295779  546443.00  546467.75   \n",
              "time_spent_on_the_page  100.0       5.3778   2.378166       0.19       3.88   \n",
              "\n",
              "                               50%          75%        max  \n",
              "user_id                 546492.500  546567.2500  546592.00  \n",
              "time_spent_on_the_page       5.415       7.0225      10.71  "
            ],
            "text/html": [
              "\n",
              "  <div id=\"df-d5198782-643e-473d-abcc-8d6799c86731\">\n",
              "    <div class=\"colab-df-container\">\n",
              "      <div>\n",
              "<style scoped>\n",
              "    .dataframe tbody tr th:only-of-type {\n",
              "        vertical-align: middle;\n",
              "    }\n",
              "\n",
              "    .dataframe tbody tr th {\n",
              "        vertical-align: top;\n",
              "    }\n",
              "\n",
              "    .dataframe thead th {\n",
              "        text-align: right;\n",
              "    }\n",
              "</style>\n",
              "<table border=\"1\" class=\"dataframe\">\n",
              "  <thead>\n",
              "    <tr style=\"text-align: right;\">\n",
              "      <th></th>\n",
              "      <th>count</th>\n",
              "      <th>mean</th>\n",
              "      <th>std</th>\n",
              "      <th>min</th>\n",
              "      <th>25%</th>\n",
              "      <th>50%</th>\n",
              "      <th>75%</th>\n",
              "      <th>max</th>\n",
              "    </tr>\n",
              "  </thead>\n",
              "  <tbody>\n",
              "    <tr>\n",
              "      <th>user_id</th>\n",
              "      <td>100.0</td>\n",
              "      <td>546517.0000</td>\n",
              "      <td>52.295779</td>\n",
              "      <td>546443.00</td>\n",
              "      <td>546467.75</td>\n",
              "      <td>546492.500</td>\n",
              "      <td>546567.2500</td>\n",
              "      <td>546592.00</td>\n",
              "    </tr>\n",
              "    <tr>\n",
              "      <th>time_spent_on_the_page</th>\n",
              "      <td>100.0</td>\n",
              "      <td>5.3778</td>\n",
              "      <td>2.378166</td>\n",
              "      <td>0.19</td>\n",
              "      <td>3.88</td>\n",
              "      <td>5.415</td>\n",
              "      <td>7.0225</td>\n",
              "      <td>10.71</td>\n",
              "    </tr>\n",
              "  </tbody>\n",
              "</table>\n",
              "</div>\n",
              "      <button class=\"colab-df-convert\" onclick=\"convertToInteractive('df-d5198782-643e-473d-abcc-8d6799c86731')\"\n",
              "              title=\"Convert this dataframe to an interactive table.\"\n",
              "              style=\"display:none;\">\n",
              "        \n",
              "  <svg xmlns=\"http://www.w3.org/2000/svg\" height=\"24px\"viewBox=\"0 0 24 24\"\n",
              "       width=\"24px\">\n",
              "    <path d=\"M0 0h24v24H0V0z\" fill=\"none\"/>\n",
              "    <path d=\"M18.56 5.44l.94 2.06.94-2.06 2.06-.94-2.06-.94-.94-2.06-.94 2.06-2.06.94zm-11 1L8.5 8.5l.94-2.06 2.06-.94-2.06-.94L8.5 2.5l-.94 2.06-2.06.94zm10 10l.94 2.06.94-2.06 2.06-.94-2.06-.94-.94-2.06-.94 2.06-2.06.94z\"/><path d=\"M17.41 7.96l-1.37-1.37c-.4-.4-.92-.59-1.43-.59-.52 0-1.04.2-1.43.59L10.3 9.45l-7.72 7.72c-.78.78-.78 2.05 0 2.83L4 21.41c.39.39.9.59 1.41.59.51 0 1.02-.2 1.41-.59l7.78-7.78 2.81-2.81c.8-.78.8-2.07 0-2.86zM5.41 20L4 18.59l7.72-7.72 1.47 1.35L5.41 20z\"/>\n",
              "  </svg>\n",
              "      </button>\n",
              "      \n",
              "  <style>\n",
              "    .colab-df-container {\n",
              "      display:flex;\n",
              "      flex-wrap:wrap;\n",
              "      gap: 12px;\n",
              "    }\n",
              "\n",
              "    .colab-df-convert {\n",
              "      background-color: #E8F0FE;\n",
              "      border: none;\n",
              "      border-radius: 50%;\n",
              "      cursor: pointer;\n",
              "      display: none;\n",
              "      fill: #1967D2;\n",
              "      height: 32px;\n",
              "      padding: 0 0 0 0;\n",
              "      width: 32px;\n",
              "    }\n",
              "\n",
              "    .colab-df-convert:hover {\n",
              "      background-color: #E2EBFA;\n",
              "      box-shadow: 0px 1px 2px rgba(60, 64, 67, 0.3), 0px 1px 3px 1px rgba(60, 64, 67, 0.15);\n",
              "      fill: #174EA6;\n",
              "    }\n",
              "\n",
              "    [theme=dark] .colab-df-convert {\n",
              "      background-color: #3B4455;\n",
              "      fill: #D2E3FC;\n",
              "    }\n",
              "\n",
              "    [theme=dark] .colab-df-convert:hover {\n",
              "      background-color: #434B5C;\n",
              "      box-shadow: 0px 1px 3px 1px rgba(0, 0, 0, 0.15);\n",
              "      filter: drop-shadow(0px 1px 2px rgba(0, 0, 0, 0.3));\n",
              "      fill: #FFFFFF;\n",
              "    }\n",
              "  </style>\n",
              "\n",
              "      <script>\n",
              "        const buttonEl =\n",
              "          document.querySelector('#df-d5198782-643e-473d-abcc-8d6799c86731 button.colab-df-convert');\n",
              "        buttonEl.style.display =\n",
              "          google.colab.kernel.accessAllowed ? 'block' : 'none';\n",
              "\n",
              "        async function convertToInteractive(key) {\n",
              "          const element = document.querySelector('#df-d5198782-643e-473d-abcc-8d6799c86731');\n",
              "          const dataTable =\n",
              "            await google.colab.kernel.invokeFunction('convertToInteractive',\n",
              "                                                     [key], {});\n",
              "          if (!dataTable) return;\n",
              "\n",
              "          const docLinkHtml = 'Like what you see? Visit the ' +\n",
              "            '<a target=\"_blank\" href=https://colab.research.google.com/notebooks/data_table.ipynb>data table notebook</a>'\n",
              "            + ' to learn more about interactive tables.';\n",
              "          element.innerHTML = '';\n",
              "          dataTable['output_type'] = 'display_data';\n",
              "          await google.colab.output.renderOutput(dataTable, element);\n",
              "          const docLink = document.createElement('div');\n",
              "          docLink.innerHTML = docLinkHtml;\n",
              "          element.appendChild(docLink);\n",
              "        }\n",
              "      </script>\n",
              "    </div>\n",
              "  </div>\n",
              "  "
            ]
          },
          "metadata": {},
          "execution_count": 42
        }
      ]
    },
    {
      "cell_type": "markdown",
      "source": [
        "* From the dataset, on an average, the time spent on the page by a user  is 5.38 minutes per day.\n",
        "* The median time spent on the page (5.42 minutes) is greater than the average, which suggests that the data is a little skewed to the left.\n",
        "* The minimum and maximum time spent on the page from the sample data are 0.19 minutes and 10.71 minutes respectively. This shows that the usage time covers a wide range of values."
      ],
      "metadata": {
        "id": "7kqV4FXf9RyA"
      },
      "id": "7kqV4FXf9RyA"
    },
    {
      "cell_type": "code",
      "source": [
        "df.describe(include = ['object']).T"
      ],
      "metadata": {
        "colab": {
          "base_uri": "https://localhost:8080/",
          "height": 175
        },
        "id": "aByoNvlExCeF",
        "outputId": "28f39898-d497-4719-8bca-2620fb8cd0a3"
      },
      "id": "aByoNvlExCeF",
      "execution_count": null,
      "outputs": [
        {
          "output_type": "execute_result",
          "data": {
            "text/plain": [
              "                   count unique      top freq\n",
              "group                100      2  control   50\n",
              "landing_page         100      2      old   50\n",
              "converted            100      2      yes   54\n",
              "language_preferred   100      3  Spanish   34"
            ],
            "text/html": [
              "\n",
              "  <div id=\"df-f8227e96-3fa4-4601-ad6a-b4526a19d012\">\n",
              "    <div class=\"colab-df-container\">\n",
              "      <div>\n",
              "<style scoped>\n",
              "    .dataframe tbody tr th:only-of-type {\n",
              "        vertical-align: middle;\n",
              "    }\n",
              "\n",
              "    .dataframe tbody tr th {\n",
              "        vertical-align: top;\n",
              "    }\n",
              "\n",
              "    .dataframe thead th {\n",
              "        text-align: right;\n",
              "    }\n",
              "</style>\n",
              "<table border=\"1\" class=\"dataframe\">\n",
              "  <thead>\n",
              "    <tr style=\"text-align: right;\">\n",
              "      <th></th>\n",
              "      <th>count</th>\n",
              "      <th>unique</th>\n",
              "      <th>top</th>\n",
              "      <th>freq</th>\n",
              "    </tr>\n",
              "  </thead>\n",
              "  <tbody>\n",
              "    <tr>\n",
              "      <th>group</th>\n",
              "      <td>100</td>\n",
              "      <td>2</td>\n",
              "      <td>control</td>\n",
              "      <td>50</td>\n",
              "    </tr>\n",
              "    <tr>\n",
              "      <th>landing_page</th>\n",
              "      <td>100</td>\n",
              "      <td>2</td>\n",
              "      <td>old</td>\n",
              "      <td>50</td>\n",
              "    </tr>\n",
              "    <tr>\n",
              "      <th>converted</th>\n",
              "      <td>100</td>\n",
              "      <td>2</td>\n",
              "      <td>yes</td>\n",
              "      <td>54</td>\n",
              "    </tr>\n",
              "    <tr>\n",
              "      <th>language_preferred</th>\n",
              "      <td>100</td>\n",
              "      <td>3</td>\n",
              "      <td>Spanish</td>\n",
              "      <td>34</td>\n",
              "    </tr>\n",
              "  </tbody>\n",
              "</table>\n",
              "</div>\n",
              "      <button class=\"colab-df-convert\" onclick=\"convertToInteractive('df-f8227e96-3fa4-4601-ad6a-b4526a19d012')\"\n",
              "              title=\"Convert this dataframe to an interactive table.\"\n",
              "              style=\"display:none;\">\n",
              "        \n",
              "  <svg xmlns=\"http://www.w3.org/2000/svg\" height=\"24px\"viewBox=\"0 0 24 24\"\n",
              "       width=\"24px\">\n",
              "    <path d=\"M0 0h24v24H0V0z\" fill=\"none\"/>\n",
              "    <path d=\"M18.56 5.44l.94 2.06.94-2.06 2.06-.94-2.06-.94-.94-2.06-.94 2.06-2.06.94zm-11 1L8.5 8.5l.94-2.06 2.06-.94-2.06-.94L8.5 2.5l-.94 2.06-2.06.94zm10 10l.94 2.06.94-2.06 2.06-.94-2.06-.94-.94-2.06-.94 2.06-2.06.94z\"/><path d=\"M17.41 7.96l-1.37-1.37c-.4-.4-.92-.59-1.43-.59-.52 0-1.04.2-1.43.59L10.3 9.45l-7.72 7.72c-.78.78-.78 2.05 0 2.83L4 21.41c.39.39.9.59 1.41.59.51 0 1.02-.2 1.41-.59l7.78-7.78 2.81-2.81c.8-.78.8-2.07 0-2.86zM5.41 20L4 18.59l7.72-7.72 1.47 1.35L5.41 20z\"/>\n",
              "  </svg>\n",
              "      </button>\n",
              "      \n",
              "  <style>\n",
              "    .colab-df-container {\n",
              "      display:flex;\n",
              "      flex-wrap:wrap;\n",
              "      gap: 12px;\n",
              "    }\n",
              "\n",
              "    .colab-df-convert {\n",
              "      background-color: #E8F0FE;\n",
              "      border: none;\n",
              "      border-radius: 50%;\n",
              "      cursor: pointer;\n",
              "      display: none;\n",
              "      fill: #1967D2;\n",
              "      height: 32px;\n",
              "      padding: 0 0 0 0;\n",
              "      width: 32px;\n",
              "    }\n",
              "\n",
              "    .colab-df-convert:hover {\n",
              "      background-color: #E2EBFA;\n",
              "      box-shadow: 0px 1px 2px rgba(60, 64, 67, 0.3), 0px 1px 3px 1px rgba(60, 64, 67, 0.15);\n",
              "      fill: #174EA6;\n",
              "    }\n",
              "\n",
              "    [theme=dark] .colab-df-convert {\n",
              "      background-color: #3B4455;\n",
              "      fill: #D2E3FC;\n",
              "    }\n",
              "\n",
              "    [theme=dark] .colab-df-convert:hover {\n",
              "      background-color: #434B5C;\n",
              "      box-shadow: 0px 1px 3px 1px rgba(0, 0, 0, 0.15);\n",
              "      filter: drop-shadow(0px 1px 2px rgba(0, 0, 0, 0.3));\n",
              "      fill: #FFFFFF;\n",
              "    }\n",
              "  </style>\n",
              "\n",
              "      <script>\n",
              "        const buttonEl =\n",
              "          document.querySelector('#df-f8227e96-3fa4-4601-ad6a-b4526a19d012 button.colab-df-convert');\n",
              "        buttonEl.style.display =\n",
              "          google.colab.kernel.accessAllowed ? 'block' : 'none';\n",
              "\n",
              "        async function convertToInteractive(key) {\n",
              "          const element = document.querySelector('#df-f8227e96-3fa4-4601-ad6a-b4526a19d012');\n",
              "          const dataTable =\n",
              "            await google.colab.kernel.invokeFunction('convertToInteractive',\n",
              "                                                     [key], {});\n",
              "          if (!dataTable) return;\n",
              "\n",
              "          const docLinkHtml = 'Like what you see? Visit the ' +\n",
              "            '<a target=\"_blank\" href=https://colab.research.google.com/notebooks/data_table.ipynb>data table notebook</a>'\n",
              "            + ' to learn more about interactive tables.';\n",
              "          element.innerHTML = '';\n",
              "          dataTable['output_type'] = 'display_data';\n",
              "          await google.colab.output.renderOutput(dataTable, element);\n",
              "          const docLink = document.createElement('div');\n",
              "          docLink.innerHTML = docLinkHtml;\n",
              "          element.appendChild(docLink);\n",
              "        }\n",
              "      </script>\n",
              "    </div>\n",
              "  </div>\n",
              "  "
            ]
          },
          "metadata": {},
          "execution_count": 43
        }
      ]
    },
    {
      "cell_type": "markdown",
      "source": [
        "* **More than 50% of the users are converted**\n",
        "* **Variable group, landing page, converted are only two categories**\n",
        "* **There are three (3) categories of preferred languages which are English, French and Spanish**"
      ],
      "metadata": {
        "id": "GeCvyo1SxQcf"
      },
      "id": "GeCvyo1SxQcf"
    },
    {
      "cell_type": "markdown",
      "metadata": {
        "id": "68f3b2c9"
      },
      "source": [
        "### Univariate Analysis"
      ],
      "id": "68f3b2c9"
    },
    {
      "cell_type": "markdown",
      "source": [
        "#### Time spent on the page"
      ],
      "metadata": {
        "id": "eb67P3DWALfw"
      },
      "id": "eb67P3DWALfw"
    },
    {
      "cell_type": "markdown",
      "source": [
        "##### Observation on User ID"
      ],
      "metadata": {
        "id": "Lyow8GfjJU59"
      },
      "id": "Lyow8GfjJU59"
    },
    {
      "cell_type": "code",
      "source": [
        "# Number of unique User ID\n",
        "df.user_id.nunique()"
      ],
      "metadata": {
        "id": "svG97qzxLWL5",
        "colab": {
          "base_uri": "https://localhost:8080/"
        },
        "outputId": "35f533d1-be76-4d91-f239-00df07473cbf"
      },
      "id": "svG97qzxLWL5",
      "execution_count": null,
      "outputs": [
        {
          "output_type": "execute_result",
          "data": {
            "text/plain": [
              "100"
            ]
          },
          "metadata": {},
          "execution_count": 44
        }
      ]
    },
    {
      "cell_type": "markdown",
      "source": [
        "* **There are 100 unique User ID**"
      ],
      "metadata": {
        "id": "F6e09v4KLjvb"
      },
      "id": "F6e09v4KLjvb"
    },
    {
      "cell_type": "markdown",
      "source": [
        "##### Observation on Time Spent on Stage"
      ],
      "metadata": {
        "id": "GoK4REttKg2m"
      },
      "id": "GoK4REttKg2m"
    },
    {
      "cell_type": "code",
      "source": [
        "# Number of unique Time Spent on the Page\n",
        "df.time_spent_on_the_page.nunique()"
      ],
      "metadata": {
        "id": "epbTWuKfMQ2s",
        "colab": {
          "base_uri": "https://localhost:8080/"
        },
        "outputId": "81309c40-493f-4650-e53d-e90d4d8a7bf7"
      },
      "id": "epbTWuKfMQ2s",
      "execution_count": null,
      "outputs": [
        {
          "output_type": "execute_result",
          "data": {
            "text/plain": [
              "94"
            ]
          },
          "metadata": {},
          "execution_count": 45
        }
      ]
    },
    {
      "cell_type": "code",
      "source": [
        "sns.histplot(data=df,x='time_spent_on_the_page', kde= True)\n",
        "plt.show()\n",
        "sns.boxplot(data=df,x='time_spent_on_the_page')\n",
        "plt.show()"
      ],
      "metadata": {
        "id": "0nzTqYxVPpoK",
        "colab": {
          "base_uri": "https://localhost:8080/",
          "height": 543
        },
        "outputId": "550093b8-35ad-4153-fc9f-74619dfc2016"
      },
      "id": "0nzTqYxVPpoK",
      "execution_count": null,
      "outputs": [
        {
          "output_type": "display_data",
          "data": {
            "text/plain": [
              "<Figure size 432x288 with 1 Axes>"
            ],
            "image/png": "[encoded data removed]"
          },
          "metadata": {
            "needs_background": "light"
          }
        },
        {
          "output_type": "display_data",
          "data": {
            "text/plain": [
              "<Figure size 432x288 with 1 Axes>"
            ],
            "image/png": "[encoded data removed]"
          },
          "metadata": {
            "needs_background": "light"
          }
        }
      ]
    },
    {
      "cell_type": "markdown",
      "source": [
        "* **There are 94 unique time spent on the page**\n",
        "* **The time spent on the landing page is slightly skewed to the left**\n",
        "* **The median value is 5.42 mins, minimum value is 0.19 mins and maximum value being 10.71 mins without any outliers** "
      ],
      "metadata": {
        "id": "czMRlQhSNhYF"
      },
      "id": "czMRlQhSNhYF"
    },
    {
      "cell_type": "markdown",
      "source": [
        "##### Observation on Group"
      ],
      "metadata": {
        "id": "R_FD5PjsBqyc"
      },
      "id": "R_FD5PjsBqyc"
    },
    {
      "cell_type": "code",
      "source": [
        "df['group'].value_counts()"
      ],
      "metadata": {
        "colab": {
          "base_uri": "https://localhost:8080/"
        },
        "id": "oz9G7a4wByq6",
        "outputId": "d20a7e32-2436-4a3e-9fdd-4193dd1e8157"
      },
      "id": "oz9G7a4wByq6",
      "execution_count": null,
      "outputs": [
        {
          "output_type": "execute_result",
          "data": {
            "text/plain": [
              "control      50\n",
              "treatment    50\n",
              "Name: group, dtype: int64"
            ]
          },
          "metadata": {},
          "execution_count": 47
        }
      ]
    },
    {
      "cell_type": "code",
      "source": [
        "sns.countplot(data=df,x='group')\n",
        "plt.show()"
      ],
      "metadata": {
        "colab": {
          "base_uri": "https://localhost:8080/",
          "height": 279
        },
        "id": "Aa1eFqAyB1Sq",
        "outputId": "9d1eaf18-6d79-4108-e2c4-b430a66f7d77"
      },
      "id": "Aa1eFqAyB1Sq",
      "execution_count": null,
      "outputs": [
        {
          "output_type": "display_data",
          "data": {
            "text/plain": [
              "<Figure size 432x288 with 1 Axes>"
            ],
            "image/png": "[encoded data removed]"
          },
          "metadata": {
            "needs_background": "light"
          }
        }
      ]
    },
    {
      "cell_type": "markdown",
      "source": [
        "* **Both Control and Treatment group have the same number of count**"
      ],
      "metadata": {
        "id": "FAt3QxcOEXIx"
      },
      "id": "FAt3QxcOEXIx"
    },
    {
      "cell_type": "markdown",
      "source": [
        "##### Observation Landing Page"
      ],
      "metadata": {
        "id": "tnoAmM5sCNep"
      },
      "id": "tnoAmM5sCNep"
    },
    {
      "cell_type": "code",
      "source": [
        "df['landing_page'].value_counts()"
      ],
      "metadata": {
        "colab": {
          "base_uri": "https://localhost:8080/"
        },
        "id": "lFL-jRxvCkgH",
        "outputId": "99c72687-e756-42ff-a72e-aa9cfe89995b"
      },
      "id": "lFL-jRxvCkgH",
      "execution_count": null,
      "outputs": [
        {
          "output_type": "execute_result",
          "data": {
            "text/plain": [
              "old    50\n",
              "new    50\n",
              "Name: landing_page, dtype: int64"
            ]
          },
          "metadata": {},
          "execution_count": 49
        }
      ]
    },
    {
      "cell_type": "code",
      "source": [
        "sns.countplot(data=df,x='landing_page')\n",
        "plt.show()"
      ],
      "metadata": {
        "colab": {
          "base_uri": "https://localhost:8080/",
          "height": 280
        },
        "id": "WErcHR7ZCk_3",
        "outputId": "c162bd98-e400-48fd-abae-e1089458333d"
      },
      "id": "WErcHR7ZCk_3",
      "execution_count": null,
      "outputs": [
        {
          "output_type": "display_data",
          "data": {
            "text/plain": [
              "<Figure size 432x288 with 1 Axes>"
            ],
            "image/png": "[encoded data removed]"
          },
          "metadata": {
            "needs_background": "light"
          }
        }
      ]
    },
    {
      "cell_type": "markdown",
      "source": [
        "* **Both New and Old landing page have the same number of count**"
      ],
      "metadata": {
        "id": "qCmcDF4EEhnc"
      },
      "id": "qCmcDF4EEhnc"
    },
    {
      "cell_type": "markdown",
      "source": [
        "##### Observation on Converted Status"
      ],
      "metadata": {
        "id": "LxYYDpx8Kop7"
      },
      "id": "LxYYDpx8Kop7"
    },
    {
      "cell_type": "code",
      "source": [
        "sns.countplot(data=df,x='converted')\n",
        "plt.xticks(rotation=60);"
      ],
      "metadata": {
        "id": "pxzNmM5BPHZM",
        "colab": {
          "base_uri": "https://localhost:8080/",
          "height": 289
        },
        "outputId": "b9222ca2-6581-47f0-9c8a-e11fd2ea662c"
      },
      "id": "pxzNmM5BPHZM",
      "execution_count": null,
      "outputs": [
        {
          "output_type": "display_data",
          "data": {
            "text/plain": [
              "<Figure size 432x288 with 1 Axes>"
            ],
            "image/png": "[encoded data removed]"
          },
          "metadata": {
            "needs_background": "light"
          }
        }
      ]
    },
    {
      "cell_type": "markdown",
      "source": [
        "* **The converted landing page is higher than none-converted landing page**"
      ],
      "metadata": {
        "id": "BdLWC4o3Nmmd"
      },
      "id": "BdLWC4o3Nmmd"
    },
    {
      "cell_type": "markdown",
      "source": [
        "##### Observation on Language Preferred"
      ],
      "metadata": {
        "id": "8hbjE1vgK1Yb"
      },
      "id": "8hbjE1vgK1Yb"
    },
    {
      "cell_type": "code",
      "source": [
        "# Number of unique Language Preferred\n",
        "df.language_preferred.nunique()"
      ],
      "metadata": {
        "id": "bx_Wpf7TM06e",
        "colab": {
          "base_uri": "https://localhost:8080/"
        },
        "outputId": "0f9d5fb1-794a-47bc-8f1f-772cd9296882"
      },
      "id": "bx_Wpf7TM06e",
      "execution_count": null,
      "outputs": [
        {
          "output_type": "execute_result",
          "data": {
            "text/plain": [
              "3"
            ]
          },
          "metadata": {},
          "execution_count": 52
        }
      ]
    },
    {
      "cell_type": "code",
      "source": [
        "sns.countplot(data=df,x='language_preferred')\n",
        "plt.xticks(rotation=60);"
      ],
      "metadata": {
        "id": "o73TcqR4PNRq",
        "colab": {
          "base_uri": "https://localhost:8080/",
          "height": 309
        },
        "outputId": "6c65e4f8-cfad-4433-a1fc-17b424edd64a"
      },
      "id": "o73TcqR4PNRq",
      "execution_count": null,
      "outputs": [
        {
          "output_type": "display_data",
          "data": {
            "text/plain": [
              "<Figure size 432x288 with 1 Axes>"
            ],
            "image/png": "[encoded data removed]"
          },
          "metadata": {
            "needs_background": "light"
          }
        }
      ]
    },
    {
      "cell_type": "markdown",
      "source": [
        "* **There are 3 unique language prefrred. Spanish and French are mostly Preferred language by the user while English is the least preferred language among the three languages**"
      ],
      "metadata": {
        "id": "fSUUdDzkNoK8"
      },
      "id": "fSUUdDzkNoK8"
    },
    {
      "cell_type": "markdown",
      "metadata": {
        "id": "fad2de2f"
      },
      "source": [
        "### Bivariate Analysis"
      ],
      "id": "fad2de2f"
    },
    {
      "cell_type": "markdown",
      "source": [
        "##### Time Spent on page vs Landing Page"
      ],
      "metadata": {
        "id": "_ouMr3s9Qf0S"
      },
      "id": "_ouMr3s9Qf0S"
    },
    {
      "cell_type": "code",
      "source": [
        "# Relationship between time spent on the page and landing page\n",
        "plt.figure(figsize=(10,6))\n",
        "sns.boxplot(data = df, x = \"landing_page\", y = \"time_spent_on_the_page\")\n",
        "plt.show()"
      ],
      "metadata": {
        "id": "znRB_HiJShhb",
        "colab": {
          "base_uri": "https://localhost:8080/",
          "height": 389
        },
        "outputId": "99273e05-93b8-4334-8f3a-882af0e04c2e"
      },
      "id": "znRB_HiJShhb",
      "execution_count": null,
      "outputs": [
        {
          "output_type": "display_data",
          "data": {
            "text/plain": [
              "<Figure size 720x432 with 1 Axes>"
            ],
            "image/png": "[encoded data removed]"
          },
          "metadata": {
            "needs_background": "light"
          }
        }
      ]
    },
    {
      "cell_type": "markdown",
      "source": [
        "* **The median, mininum and maximum time spent on the new landing page is about 6 mins, 3 mins and 9 mins respectively with some outliers.**\n",
        "* **Users spent more time on the new landing page compared to old landing page**"
      ],
      "metadata": {
        "id": "SYSj_i2UqiYt"
      },
      "id": "SYSj_i2UqiYt"
    },
    {
      "cell_type": "markdown",
      "source": [
        "##### Time Spent on page vs Group Type"
      ],
      "metadata": {
        "id": "ystfZ5ZoRDlj"
      },
      "id": "ystfZ5ZoRDlj"
    },
    {
      "cell_type": "code",
      "source": [
        "# Relationship between time spent on the page and group type\n",
        "plt.figure(figsize=(10,6))\n",
        "sns.boxplot(data = df, x = \"group\", y = \"time_spent_on_the_page\")\n",
        "plt.show()"
      ],
      "metadata": {
        "id": "40mX4d6CTPm9",
        "colab": {
          "base_uri": "https://localhost:8080/",
          "height": 388
        },
        "outputId": "650523ac-33a1-4c0b-d00c-3cc46c2d39c0"
      },
      "id": "40mX4d6CTPm9",
      "execution_count": null,
      "outputs": [
        {
          "output_type": "display_data",
          "data": {
            "text/plain": [
              "<Figure size 720x432 with 1 Axes>"
            ],
            "image/png": "[encoded data removed]"
          },
          "metadata": {
            "needs_background": "light"
          }
        }
      ]
    },
    {
      "cell_type": "markdown",
      "source": [
        "* **The control group spent more time on the page than the treatment group**"
      ],
      "metadata": {
        "id": "B-llIlD4sLvt"
      },
      "id": "B-llIlD4sLvt"
    },
    {
      "cell_type": "markdown",
      "source": [
        "##### Time Spent on the Page vs Converted Status"
      ],
      "metadata": {
        "id": "dTmTYEnSRroI"
      },
      "id": "dTmTYEnSRroI"
    },
    {
      "cell_type": "code",
      "source": [
        "# Relationship between time spent on the page and converted status\n",
        "plt.figure(figsize=(15,7))\n",
        "sns.boxplot(data = df, x = \"converted\", y = \"time_spent_on_the_page\")\n",
        "plt.show()"
      ],
      "metadata": {
        "id": "Wl3FsrLoTe1k",
        "colab": {
          "base_uri": "https://localhost:8080/",
          "height": 442
        },
        "outputId": "91391ef1-e530-4057-b4ef-0bf2e7121806"
      },
      "id": "Wl3FsrLoTe1k",
      "execution_count": null,
      "outputs": [
        {
          "output_type": "display_data",
          "data": {
            "text/plain": [
              "<Figure size 1080x504 with 1 Axes>"
            ],
            "image/png": "[encoded data removed]"
          },
          "metadata": {
            "needs_background": "light"
          }
        }
      ]
    },
    {
      "cell_type": "markdown",
      "source": [
        "* **The time spent on on converted page is higher than none None-converted page**"
      ],
      "metadata": {
        "id": "CItjjzEqudMo"
      },
      "id": "CItjjzEqudMo"
    },
    {
      "cell_type": "markdown",
      "source": [
        "##### Time Spent on the Page vs Language Preferred"
      ],
      "metadata": {
        "id": "Xi4JzBKeVB6H"
      },
      "id": "Xi4JzBKeVB6H"
    },
    {
      "cell_type": "code",
      "source": [
        "# Relationship between time spent on the page and language preferred\n",
        "plt.figure(figsize=(10,6))\n",
        "sns.boxplot(data = df, x = \"language_preferred\", y = \"time_spent_on_the_page\")\n",
        "plt.show()"
      ],
      "metadata": {
        "id": "aFbvj58SVb2j",
        "colab": {
          "base_uri": "https://localhost:8080/",
          "height": 389
        },
        "outputId": "039553b0-b376-4fe6-cc03-d35dcf5a022e"
      },
      "id": "aFbvj58SVb2j",
      "execution_count": null,
      "outputs": [
        {
          "output_type": "display_data",
          "data": {
            "text/plain": [
              "<Figure size 720x432 with 1 Axes>"
            ],
            "image/png": "[encoded data removed]"
          },
          "metadata": {
            "needs_background": "light"
          }
        }
      ]
    },
    {
      "cell_type": "markdown",
      "source": [
        "* **The mean and median time spent users based on preferred language are almost equal but the Spanish preferred language have some outliers**"
      ],
      "metadata": {
        "id": "2quuIaOdtr-F"
      },
      "id": "2quuIaOdtr-F"
    },
    {
      "cell_type": "markdown",
      "source": [
        "## 1. Do the users spend more time on the new landing page than the existing landing page?"
      ],
      "metadata": {
        "id": "jj8Dx4jzOOBo"
      },
      "id": "jj8Dx4jzOOBo"
    },
    {
      "cell_type": "markdown",
      "metadata": {
        "id": "e5fdf0c8"
      },
      "source": [
        "### Performing Visual Analysis"
      ],
      "id": "e5fdf0c8"
    },
    {
      "cell_type": "code",
      "source": [
        "# visual analysis of the time spent on the new page and the time spent on the old page\n",
        "plt.figure(figsize=(10,6))\n",
        "sns.boxplot(x = 'landing_page', y = 'time_spent_on_the_page', data = df)\n",
        "plt.show()"
      ],
      "metadata": {
        "colab": {
          "base_uri": "https://localhost:8080/",
          "height": 389
        },
        "id": "oU5nm1fpFwqq",
        "outputId": "3fce655e-32b7-4315-95bf-e9b267e3b74b"
      },
      "id": "oU5nm1fpFwqq",
      "execution_count": null,
      "outputs": [
        {
          "output_type": "display_data",
          "data": {
            "text/plain": [
              "<Figure size 720x432 with 1 Axes>"
            ],
            "image/png": "[encoded data removed]"
          },
          "metadata": {
            "needs_background": "light"
          }
        }
      ]
    },
    {
      "cell_type": "markdown",
      "source": [
        "* **Users spend more time on the new landing page than the old landing page with some outliers in the new landing page**"
      ],
      "metadata": {
        "id": "w7ft4XMAF_s0"
      },
      "id": "w7ft4XMAF_s0"
    },
    {
      "cell_type": "markdown",
      "metadata": {
        "id": "56b3dafd"
      },
      "source": [
        "### Defining the null and alternate hypotheses"
      ],
      "id": "56b3dafd"
    },
    {
      "cell_type": "markdown",
      "metadata": {
        "id": "d2ac77ef"
      },
      "source": [
        "The null and alternative hypotheses can be formulated as:\n",
        "\n",
        "> $H_0:$ The mean time spent by users on the new landing page is equal to the mean time spent on old landing page. <br>\n",
        "$H_a:$ The mean time spentby user on the new landing page is greater than the mean time spent on old landing page.\n",
        "\n",
        "Let $\\mu_1$ and $\\mu_2$ be the mean time spent on the the new landing page and the mean time spent on the old landing page respectively.\n",
        "\n",
        "Mathematically, the above formulated hypotheses can be written as:\n",
        "\n",
        "> $H_0: \\mu_1 = \\mu_2 $ <br>\n",
        "$H_a: \\mu_1 > \\mu_2 $"
      ],
      "id": "d2ac77ef"
    },
    {
      "cell_type": "markdown",
      "metadata": {
        "id": "c7ee4907"
      },
      "source": [
        "### Selecting Appropriate test"
      ],
      "id": "c7ee4907"
    },
    {
      "cell_type": "markdown",
      "metadata": {
        "id": "2c183cd7"
      },
      "source": [
        "This is a case of one-tailed test concerning two population means from two independent populations. The population standard deviations are unknown. **Hence, a two-sample paired t-test is the most appropriate test for this case.** **Based on this information, select the appropriate test**.\n",
        "\n",
        "**Two-sample Paired t-test**\n",
        "\n",
        "In a two-sample paired t-test, we compare the means from two dependent (related) populations to check if they differ significantly. We are provided that the sample is randomly selected."
      ],
      "id": "2c183cd7"
    },
    {
      "cell_type": "markdown",
      "metadata": {
        "id": "3f58c9a7"
      },
      "source": [
        "### Deciding the significance level"
      ],
      "id": "3f58c9a7"
    },
    {
      "cell_type": "markdown",
      "metadata": {
        "id": "92d7d7ee"
      },
      "source": [
        "As given in the problem statement, we select $\\alpha = 0.05$."
      ],
      "id": "92d7d7ee"
    },
    {
      "cell_type": "markdown",
      "metadata": {
        "id": "5fed2eac"
      },
      "source": [
        "### Collecting and preparing data"
      ],
      "id": "5fed2eac"
    },
    {
      "cell_type": "code",
      "metadata": {
        "id": "f5a59495"
      },
      "source": [
        "# creating subsetted data frame for new landing page users \n",
        "time_spent_new = df[df['landing_page'] == 'new']['time_spent_on_the_page']\n",
        "\n",
        "# creating subsetted data frame for old landing page users\n",
        "time_spent_old = df[df['landing_page'] == 'old']['time_spent_on_the_page']"
      ],
      "id": "f5a59495",
      "execution_count": null,
      "outputs": []
    },
    {
      "cell_type": "code",
      "source": [
        "print('The sample standard deviation of the time spent on the new page is:', round(time_spent_new.std(),2))\n",
        "print('The sample standard deviation of the time spent on the old page is:', round(time_spent_old.std(),2))"
      ],
      "metadata": {
        "colab": {
          "base_uri": "https://localhost:8080/"
        },
        "id": "eTrd3jjRKSop",
        "outputId": "cb5902bd-d958-4a8a-aecf-e0c99772c2b3"
      },
      "id": "eTrd3jjRKSop",
      "execution_count": null,
      "outputs": [
        {
          "output_type": "stream",
          "name": "stdout",
          "text": [
            "The sample standard deviation of the time spent on the new page is: 1.82\n",
            "The sample standard deviation of the time spent on the old page is: 2.58\n"
          ]
        }
      ]
    },
    {
      "cell_type": "markdown",
      "source": [
        "* Obervation: **Based on the sample standard deviations of the two groups, the population standard deviations can be assumed not to be equal**."
      ],
      "metadata": {
        "id": "qr9r3HXuKdOS"
      },
      "id": "qr9r3HXuKdOS"
    },
    {
      "cell_type": "markdown",
      "metadata": {
        "id": "f5c5258d"
      },
      "source": [
        "### Calculating the p-value"
      ],
      "id": "f5c5258d"
    },
    {
      "cell_type": "code",
      "source": [
        "from scipy.stats import ttest_rel\n",
        "\n",
        "# find the p-value\n",
        "test_stat, p_value  = ttest_rel(time_spent_new, time_spent_old, alternative = 'greater')  \n",
        "print('The p-value is', p_value)"
      ],
      "metadata": {
        "colab": {
          "base_uri": "https://localhost:8080/"
        },
        "id": "EGesL9WmL8CH",
        "outputId": "2619b98c-6166-4add-b139-2b2e78c5c772"
      },
      "id": "EGesL9WmL8CH",
      "execution_count": null,
      "outputs": [
        {
          "output_type": "stream",
          "name": "stdout",
          "text": [
            "The p-value is 0.00029910900937037973\n"
          ]
        }
      ]
    },
    {
      "cell_type": "markdown",
      "metadata": {
        "id": "359b12f8"
      },
      "source": [
        "### Comparing the p-value with $\\alpha$"
      ],
      "id": "359b12f8"
    },
    {
      "cell_type": "code",
      "metadata": {
        "id": "7be47289",
        "colab": {
          "base_uri": "https://localhost:8080/"
        },
        "outputId": "b2729ec5-4bfb-4ab6-df5a-1a68e2ff90a4"
      },
      "source": [
        "# print the conclusion based on p-value\n",
        "if p_value < 0.05:\n",
        "    print(f'As the p-value {p_value} is less than the level of significance, we reject the null hypothesis.')\n",
        "else:\n",
        "    print(f'As the p-value {p_value} is greater than the level of significance, we fail to reject the null hypothesis.')"
      ],
      "id": "7be47289",
      "execution_count": null,
      "outputs": [
        {
          "output_type": "stream",
          "name": "stdout",
          "text": [
            "As the p-value 0.00029910900937037973 is less than the level of significance, we reject the null hypothesis.\n"
          ]
        }
      ]
    },
    {
      "cell_type": "markdown",
      "metadata": {
        "id": "d9affc84"
      },
      "source": [
        "### Drawing inference"
      ],
      "id": "d9affc84"
    },
    {
      "cell_type": "markdown",
      "metadata": {
        "id": "6b16dd4b"
      },
      "source": [
        "Since the p-value is less than the level of significance (5%), we reject the null hypothesis. Hence there is enough statistical evidence to say that the mean time spent by user on the new landing page is greater than the mean time spent by user on the old landing page"
      ],
      "id": "6b16dd4b"
    },
    {
      "cell_type": "markdown",
      "metadata": {
        "id": "1ad0823a"
      },
      "source": [
        "**A similar approach can be followed to answer the other questions.**"
      ],
      "id": "1ad0823a"
    },
    {
      "cell_type": "markdown",
      "metadata": {
        "id": "353e9d24"
      },
      "source": [
        "## 2. Is the conversion rate (the proportion of users who visit the landing page and get converted) for the new page greater than the conversion rate for the old page?"
      ],
      "id": "353e9d24"
    },
    {
      "cell_type": "markdown",
      "source": [
        "### Performing Visual Analysis"
      ],
      "metadata": {
        "id": "0NLt3iR_UDdA"
      },
      "id": "0NLt3iR_UDdA"
    },
    {
      "cell_type": "code",
      "metadata": {
        "id": "b7f52898",
        "colab": {
          "base_uri": "https://localhost:8080/",
          "height": 504
        },
        "outputId": "3eb0b58c-54ab-452b-f971-f253c909394c"
      },
      "source": [
        "# visually comparing the conversion rate for the new page and the conversion rate for the old page\n",
        "pd.crosstab(df['converted'], df['landing_page'],normalize='index').plot(kind=\"bar\", figsize=(6,8),stacked=True)\n",
        "plt.legend()\n",
        "plt.show()"
      ],
      "id": "b7f52898",
      "execution_count": null,
      "outputs": [
        {
          "output_type": "display_data",
          "data": {
            "text/plain": [
              "<Figure size 432x576 with 1 Axes>"
            ],
            "image/png": "[encoded data removed]"
          },
          "metadata": {
            "needs_background": "light"
          }
        }
      ]
    },
    {
      "cell_type": "markdown",
      "source": [
        "* **More people are converted on the old page compared to the new page**"
      ],
      "metadata": {
        "id": "mnXe6T4q4hGh"
      },
      "id": "mnXe6T4q4hGh"
    },
    {
      "cell_type": "markdown",
      "source": [
        "### Defining the null and alternate hypotheses"
      ],
      "metadata": {
        "id": "7eLRwR0DvB7i"
      },
      "id": "7eLRwR0DvB7i"
    },
    {
      "cell_type": "markdown",
      "source": [
        "$H_0:$ Conversion rate on the New page is equal to conversion rate on the Old page\n",
        "\n",
        "$H_a:$ Conversion rate on the New page greater than conversion rate Old page"
      ],
      "metadata": {
        "id": "sKp5uZlYc-vS"
      },
      "id": "sKp5uZlYc-vS"
    },
    {
      "cell_type": "markdown",
      "source": [
        "### Selecting Appropriate test"
      ],
      "metadata": {
        "id": "CoJM2mK7S8vK"
      },
      "id": "CoJM2mK7S8vK"
    },
    {
      "cell_type": "markdown",
      "source": [
        "Since we are comparing the sample proportion to the population proportion, we use **Proportion Z-test**"
      ],
      "metadata": {
        "id": "qmecy2LPWk_5"
      },
      "id": "qmecy2LPWk_5"
    },
    {
      "cell_type": "markdown",
      "source": [
        "### Deciding the significance level"
      ],
      "metadata": {
        "id": "8FINw8KT0LGM"
      },
      "id": "8FINw8KT0LGM"
    },
    {
      "cell_type": "markdown",
      "source": [
        "As given in the problem statement, we select $\\alpha = 0.05$."
      ],
      "metadata": {
        "id": "CEtjjW-F0UWR"
      },
      "id": "CEtjjW-F0UWR"
    },
    {
      "cell_type": "markdown",
      "source": [
        "### Collecting and preparing data"
      ],
      "metadata": {
        "id": "E-M9p4Ik0Cc-"
      },
      "id": "E-M9p4Ik0Cc-"
    },
    {
      "cell_type": "code",
      "source": [
        "# calculating the number of converted users in the treatment group\n",
        "new_converted = df[df['group'] == 'treatment']['converted'].value_counts()['yes']\n",
        "# calculating the number of converted users in the control group\n",
        "old_converted = df[df['group'] == 'control']['converted'].value_counts()['yes']\n",
        "\n",
        "n_control = df.group.value_counts()['control'] # total number of users in the control group\n",
        "n_treatment = df.group.value_counts()['treatment'] # total number of users in the treatment group\n",
        "\n",
        "print('The numbers of users served the new and old pages are {0} and {1} respectively'.format(n_control, n_treatment ))"
      ],
      "metadata": {
        "colab": {
          "base_uri": "https://localhost:8080/"
        },
        "id": "Msuc9hj0WL7_",
        "outputId": "7b5c05b4-5443-4b1f-8f8d-19dde9864af5"
      },
      "id": "Msuc9hj0WL7_",
      "execution_count": null,
      "outputs": [
        {
          "output_type": "stream",
          "name": "stdout",
          "text": [
            "The numbers of users served the new and old pages are 50 and 50 respectively\n"
          ]
        }
      ]
    },
    {
      "cell_type": "markdown",
      "source": [
        "### Calculating the p-value"
      ],
      "metadata": {
        "id": "aRp427oUzrY2"
      },
      "id": "aRp427oUzrY2"
    },
    {
      "cell_type": "code",
      "source": [
        "# import the required function\n",
        "from statsmodels.stats.proportion import proportions_ztest\n",
        "# finding the p-value\n",
        "test_stat, p_value = proportions_ztest([new_converted, old_converted] , [n_treatment, n_control], alternative = 'larger')\n",
        "\n",
        "\n",
        "print('The p-value is', p_value)"
      ],
      "metadata": {
        "colab": {
          "base_uri": "https://localhost:8080/"
        },
        "id": "YfVGEq17COs7",
        "outputId": "0e14b225-267f-4b13-f566-544c6ff955db"
      },
      "id": "YfVGEq17COs7",
      "execution_count": null,
      "outputs": [
        {
          "output_type": "stream",
          "name": "stdout",
          "text": [
            "The p-value is 0.008026308204056278\n"
          ]
        }
      ]
    },
    {
      "cell_type": "markdown",
      "source": [
        "### Comparing the p-value with $\\alpha$"
      ],
      "metadata": {
        "id": "tvHImF-QzyBa"
      },
      "id": "tvHImF-QzyBa"
    },
    {
      "cell_type": "code",
      "source": [
        "# print the conclusion based on p-value\n",
        "if p_value < 0.05:\n",
        "    print(f'As the p-value {p_value} is less than the level of significance, we reject the null hypothesis.')\n",
        "else:\n",
        "    print(f'As the p-value {p_value} is greater than the level of significance, we fail to reject the null hypothesis.')"
      ],
      "metadata": {
        "id": "InFI43TrWaRO",
        "colab": {
          "base_uri": "https://localhost:8080/"
        },
        "outputId": "da2c9516-eafa-48fb-9f1a-a0502f2b5ce2"
      },
      "id": "InFI43TrWaRO",
      "execution_count": null,
      "outputs": [
        {
          "output_type": "stream",
          "name": "stdout",
          "text": [
            "As the p-value 0.008026308204056278 is less than the level of significance, we reject the null hypothesis.\n"
          ]
        }
      ]
    },
    {
      "cell_type": "markdown",
      "source": [
        "### Drawing inference"
      ],
      "metadata": {
        "id": "a37JjqNxWfbf"
      },
      "id": "a37JjqNxWfbf"
    },
    {
      "cell_type": "markdown",
      "source": [
        "Since the p-value is less than the level of significance (5%), we reject the null hypothesis. Hence there is enough statistical evidence to say that the conversion rate for the new page is greater than the conversion rate for the old page"
      ],
      "metadata": {
        "id": "KMV_QGvU7cbl"
      },
      "id": "KMV_QGvU7cbl"
    },
    {
      "cell_type": "markdown",
      "metadata": {
        "id": "d49bfa2d"
      },
      "source": [
        "## 3. Is the conversion and preferred language are independent or related?"
      ],
      "id": "d49bfa2d"
    },
    {
      "cell_type": "markdown",
      "source": [
        "### Performing Visual Analysis"
      ],
      "metadata": {
        "id": "D5GSmmFA0xSU"
      },
      "id": "D5GSmmFA0xSU"
    },
    {
      "cell_type": "code",
      "metadata": {
        "id": "b0e63f17",
        "colab": {
          "base_uri": "https://localhost:8080/",
          "height": 504
        },
        "outputId": "45291742-e5f3-4d61-b29e-e378a98517f8"
      },
      "source": [
        "# visually ploting the dependency between conversion status and preferred langauge\n",
        "pd.crosstab(df['converted'], df['language_preferred'],normalize='index').plot(kind=\"bar\", figsize=(6,8),stacked=True)\n",
        "plt.legend()\n",
        "plt.show()"
      ],
      "id": "b0e63f17",
      "execution_count": null,
      "outputs": [
        {
          "output_type": "display_data",
          "data": {
            "text/plain": [
              "<Figure size 432x576 with 1 Axes>"
            ],
            "image/png": "[encoded data removed]"
          },
          "metadata": {
            "needs_background": "light"
          }
        }
      ]
    },
    {
      "cell_type": "markdown",
      "source": [
        "* **The Spanish preferred language has the highest rate of conversion compared to the other two languages.**"
      ],
      "metadata": {
        "id": "_CJAFMsyD_oU"
      },
      "id": "_CJAFMsyD_oU"
    },
    {
      "cell_type": "markdown",
      "source": [
        "### Defining the null and alternate hypotheses"
      ],
      "metadata": {
        "id": "Rm1uyIugvG7r"
      },
      "id": "Rm1uyIugvG7r"
    },
    {
      "cell_type": "markdown",
      "source": [
        "$H_0:$ Conversion status is independent of preferred language\n",
        "\n",
        "$H_a:$ Conversion status is not independent of preferred language"
      ],
      "metadata": {
        "id": "b9505yhjvMxA"
      },
      "id": "b9505yhjvMxA"
    },
    {
      "cell_type": "markdown",
      "source": [
        "### Selecting Appropriate test"
      ],
      "metadata": {
        "id": "yYC34QY_07Sp"
      },
      "id": "yYC34QY_07Sp"
    },
    {
      "cell_type": "markdown",
      "source": [
        "Since we want to confirm if the categorical variables from a population are independent, we use **Chi-Square test of independence**"
      ],
      "metadata": {
        "id": "dNpP1wN81L0d"
      },
      "id": "dNpP1wN81L0d"
    },
    {
      "cell_type": "markdown",
      "source": [
        "### Deciding the significance level"
      ],
      "metadata": {
        "id": "ImcEBk2Y16rK"
      },
      "id": "ImcEBk2Y16rK"
    },
    {
      "cell_type": "markdown",
      "source": [
        "As given in the problem statement, we select $\\alpha = 0.05$."
      ],
      "metadata": {
        "id": "iOrRF28N2J0m"
      },
      "id": "iOrRF28N2J0m"
    },
    {
      "cell_type": "markdown",
      "source": [
        "### Collecting and preparing data"
      ],
      "metadata": {
        "id": "mjfn4Why2Sfu"
      },
      "id": "mjfn4Why2Sfu"
    },
    {
      "cell_type": "code",
      "source": [
        "# creating a contingency table showing the distribution of the two categorical variables\n",
        "contingency_table = pd.crosstab(df['converted'], df['language_preferred'])  \n",
        "contingency_table"
      ],
      "metadata": {
        "id": "I0sFKfloVPnp",
        "colab": {
          "base_uri": "https://localhost:8080/",
          "height": 143
        },
        "outputId": "9cd0fd5a-c958-4db4-8f28-1751a0982f3f"
      },
      "id": "I0sFKfloVPnp",
      "execution_count": null,
      "outputs": [
        {
          "output_type": "execute_result",
          "data": {
            "text/plain": [
              "language_preferred  English  French  Spanish\n",
              "converted                                   \n",
              "no                       11      19       16\n",
              "yes                      21      15       18"
            ],
            "text/html": [
              "\n",
              "  <div id=\"df-363d2a32-5928-43a4-9e6b-1050d45015b2\">\n",
              "    <div class=\"colab-df-container\">\n",
              "      <div>\n",
              "<style scoped>\n",
              "    .dataframe tbody tr th:only-of-type {\n",
              "        vertical-align: middle;\n",
              "    }\n",
              "\n",
              "    .dataframe tbody tr th {\n",
              "        vertical-align: top;\n",
              "    }\n",
              "\n",
              "    .dataframe thead th {\n",
              "        text-align: right;\n",
              "    }\n",
              "</style>\n",
              "<table border=\"1\" class=\"dataframe\">\n",
              "  <thead>\n",
              "    <tr style=\"text-align: right;\">\n",
              "      <th>language_preferred</th>\n",
              "      <th>English</th>\n",
              "      <th>French</th>\n",
              "      <th>Spanish</th>\n",
              "    </tr>\n",
              "    <tr>\n",
              "      <th>converted</th>\n",
              "      <th></th>\n",
              "      <th></th>\n",
              "      <th></th>\n",
              "    </tr>\n",
              "  </thead>\n",
              "  <tbody>\n",
              "    <tr>\n",
              "      <th>no</th>\n",
              "      <td>11</td>\n",
              "      <td>19</td>\n",
              "      <td>16</td>\n",
              "    </tr>\n",
              "    <tr>\n",
              "      <th>yes</th>\n",
              "      <td>21</td>\n",
              "      <td>15</td>\n",
              "      <td>18</td>\n",
              "    </tr>\n",
              "  </tbody>\n",
              "</table>\n",
              "</div>\n",
              "      <button class=\"colab-df-convert\" onclick=\"convertToInteractive('df-363d2a32-5928-43a4-9e6b-1050d45015b2')\"\n",
              "              title=\"Convert this dataframe to an interactive table.\"\n",
              "              style=\"display:none;\">\n",
              "        \n",
              "  <svg xmlns=\"http://www.w3.org/2000/svg\" height=\"24px\"viewBox=\"0 0 24 24\"\n",
              "       width=\"24px\">\n",
              "    <path d=\"M0 0h24v24H0V0z\" fill=\"none\"/>\n",
              "    <path d=\"M18.56 5.44l.94 2.06.94-2.06 2.06-.94-2.06-.94-.94-2.06-.94 2.06-2.06.94zm-11 1L8.5 8.5l.94-2.06 2.06-.94-2.06-.94L8.5 2.5l-.94 2.06-2.06.94zm10 10l.94 2.06.94-2.06 2.06-.94-2.06-.94-.94-2.06-.94 2.06-2.06.94z\"/><path d=\"M17.41 7.96l-1.37-1.37c-.4-.4-.92-.59-1.43-.59-.52 0-1.04.2-1.43.59L10.3 9.45l-7.72 7.72c-.78.78-.78 2.05 0 2.83L4 21.41c.39.39.9.59 1.41.59.51 0 1.02-.2 1.41-.59l7.78-7.78 2.81-2.81c.8-.78.8-2.07 0-2.86zM5.41 20L4 18.59l7.72-7.72 1.47 1.35L5.41 20z\"/>\n",
              "  </svg>\n",
              "      </button>\n",
              "      \n",
              "  <style>\n",
              "    .colab-df-container {\n",
              "      display:flex;\n",
              "      flex-wrap:wrap;\n",
              "      gap: 12px;\n",
              "    }\n",
              "\n",
              "    .colab-df-convert {\n",
              "      background-color: #E8F0FE;\n",
              "      border: none;\n",
              "      border-radius: 50%;\n",
              "      cursor: pointer;\n",
              "      display: none;\n",
              "      fill: #1967D2;\n",
              "      height: 32px;\n",
              "      padding: 0 0 0 0;\n",
              "      width: 32px;\n",
              "    }\n",
              "\n",
              "    .colab-df-convert:hover {\n",
              "      background-color: #E2EBFA;\n",
              "      box-shadow: 0px 1px 2px rgba(60, 64, 67, 0.3), 0px 1px 3px 1px rgba(60, 64, 67, 0.15);\n",
              "      fill: #174EA6;\n",
              "    }\n",
              "\n",
              "    [theme=dark] .colab-df-convert {\n",
              "      background-color: #3B4455;\n",
              "      fill: #D2E3FC;\n",
              "    }\n",
              "\n",
              "    [theme=dark] .colab-df-convert:hover {\n",
              "      background-color: #434B5C;\n",
              "      box-shadow: 0px 1px 3px 1px rgba(0, 0, 0, 0.15);\n",
              "      filter: drop-shadow(0px 1px 2px rgba(0, 0, 0, 0.3));\n",
              "      fill: #FFFFFF;\n",
              "    }\n",
              "  </style>\n",
              "\n",
              "      <script>\n",
              "        const buttonEl =\n",
              "          document.querySelector('#df-363d2a32-5928-43a4-9e6b-1050d45015b2 button.colab-df-convert');\n",
              "        buttonEl.style.display =\n",
              "          google.colab.kernel.accessAllowed ? 'block' : 'none';\n",
              "\n",
              "        async function convertToInteractive(key) {\n",
              "          const element = document.querySelector('#df-363d2a32-5928-43a4-9e6b-1050d45015b2');\n",
              "          const dataTable =\n",
              "            await google.colab.kernel.invokeFunction('convertToInteractive',\n",
              "                                                     [key], {});\n",
              "          if (!dataTable) return;\n",
              "\n",
              "          const docLinkHtml = 'Like what you see? Visit the ' +\n",
              "            '<a target=\"_blank\" href=https://colab.research.google.com/notebooks/data_table.ipynb>data table notebook</a>'\n",
              "            + ' to learn more about interactive tables.';\n",
              "          element.innerHTML = '';\n",
              "          dataTable['output_type'] = 'display_data';\n",
              "          await google.colab.output.renderOutput(dataTable, element);\n",
              "          const docLink = document.createElement('div');\n",
              "          docLink.innerHTML = docLinkHtml;\n",
              "          element.appendChild(docLink);\n",
              "        }\n",
              "      </script>\n",
              "    </div>\n",
              "  </div>\n",
              "  "
            ]
          },
          "metadata": {},
          "execution_count": 68
        }
      ]
    },
    {
      "cell_type": "markdown",
      "source": [
        "### Calculating the p-value"
      ],
      "metadata": {
        "id": "_ao5x-zs2e-K"
      },
      "id": "_ao5x-zs2e-K"
    },
    {
      "cell_type": "code",
      "source": [
        "# import the required function\n",
        "from scipy.stats import chi2_contingency\n",
        "\n",
        "# calculate the p-value\n",
        "chi2, p_value, dof, exp_freq = chi2_contingency(contingency_table)\n",
        "\n",
        "print('The p-value is', p_value)"
      ],
      "metadata": {
        "id": "xVoLr65NVlLr",
        "colab": {
          "base_uri": "https://localhost:8080/"
        },
        "outputId": "f55cdc9a-ab6a-4098-c402-9509cc5c4025"
      },
      "id": "xVoLr65NVlLr",
      "execution_count": null,
      "outputs": [
        {
          "output_type": "stream",
          "name": "stdout",
          "text": [
            "The p-value is 0.21298887487543447\n"
          ]
        }
      ]
    },
    {
      "cell_type": "markdown",
      "source": [
        "### Comparing the p-value with $\\alpha$"
      ],
      "metadata": {
        "id": "mXPW45XC2uor"
      },
      "id": "mXPW45XC2uor"
    },
    {
      "cell_type": "code",
      "source": [
        "# print the conclusion based on p-value\n",
        "if p_value < 0.05:\n",
        "    print(f'As the p-value {p_value} is less than the level of significance, we reject the null hypothesis.')\n",
        "else:\n",
        "    print(f'As the p-value {p_value} is greater than the level of significance, we fail to reject the null hypothesis.')"
      ],
      "metadata": {
        "id": "Eby4DEd9Vv4t",
        "colab": {
          "base_uri": "https://localhost:8080/"
        },
        "outputId": "ccc1b95f-9c6d-4d33-ee78-e59f560ef2e5"
      },
      "id": "Eby4DEd9Vv4t",
      "execution_count": null,
      "outputs": [
        {
          "output_type": "stream",
          "name": "stdout",
          "text": [
            "As the p-value 0.21298887487543447 is greater than the level of significance, we fail to reject the null hypothesis.\n"
          ]
        }
      ]
    },
    {
      "cell_type": "markdown",
      "source": [
        "### Drawing inference"
      ],
      "metadata": {
        "id": "ku6o40qqWiBU"
      },
      "id": "ku6o40qqWiBU"
    },
    {
      "cell_type": "markdown",
      "source": [
        "At a 5% significance level, we fail to reject the null hypothesis because p-value is greater than the level of significance. Hence, we do not have enough statistical evidence to say that conversion status is independent of the preferred language"
      ],
      "metadata": {
        "id": "_yl0L42lIg_b"
      },
      "id": "_yl0L42lIg_b"
    },
    {
      "cell_type": "markdown",
      "metadata": {
        "id": "8d585a90"
      },
      "source": [
        "## 4. Is the time spent on the new page same for the different language users?"
      ],
      "id": "8d585a90"
    },
    {
      "cell_type": "markdown",
      "source": [
        "### Performing Visual Analysis"
      ],
      "metadata": {
        "id": "AAcIK1EzV_A5"
      },
      "id": "AAcIK1EzV_A5"
    },
    {
      "cell_type": "code",
      "source": [
        "# creating a new DataFrame for users who got served the new page\n",
        "df_new = df[df['landing_page'] == 'new']"
      ],
      "metadata": {
        "id": "rRAFEAp_g41S"
      },
      "id": "rRAFEAp_g41S",
      "execution_count": null,
      "outputs": []
    },
    {
      "cell_type": "code",
      "source": [
        "# visually plotting the time spent on the new page for different language users\n",
        "plt.figure(figsize=(10,6))\n",
        "sns.boxplot(x = 'landing_page', y = \"time_spent_on_the_page\", showmeans = True, data = df_new)\n",
        "plt.show()\n"
      ],
      "metadata": {
        "colab": {
          "base_uri": "https://localhost:8080/",
          "height": 389
        },
        "id": "IaHBJFeBncm3",
        "outputId": "8341f24a-403d-49df-fb58-e9d9aac56021"
      },
      "id": "IaHBJFeBncm3",
      "execution_count": null,
      "outputs": [
        {
          "output_type": "display_data",
          "data": {
            "text/plain": [
              "<Figure size 720x432 with 1 Axes>"
            ],
            "image/png": "[encoded data removed]"
          },
          "metadata": {
            "needs_background": "light"
          }
        }
      ]
    },
    {
      "cell_type": "markdown",
      "source": [
        "* **The median, minimum and maximum time spent on the new landing page is 3 mins, 6 mins, and 9 mins respectively with some outliers** "
      ],
      "metadata": {
        "id": "KmFOtta1wrY5"
      },
      "id": "KmFOtta1wrY5"
    },
    {
      "cell_type": "markdown",
      "source": [
        "### Defining the null and alternate hypotheses"
      ],
      "metadata": {
        "id": "iWP49Lj7vI6Y"
      },
      "id": "iWP49Lj7vI6Y"
    },
    {
      "cell_type": "markdown",
      "source": [
        "\n",
        "\n",
        "> $H_0$ : The mean value  with respect to each preferred language category is equal. <br>\n",
        "> $H_a$ : At least one of the mean value with respect to the three preffered language category is different."
      ],
      "metadata": {
        "id": "rNyJ5gaRvKY4"
      },
      "id": "rNyJ5gaRvKY4"
    },
    {
      "cell_type": "markdown",
      "source": [
        "### Selecting Appropriate test"
      ],
      "metadata": {
        "id": "Ny27-Y31WTbL"
      },
      "id": "Ny27-Y31WTbL"
    },
    {
      "cell_type": "markdown",
      "source": [
        "This is a problem, concerning three population means. Based on this information, **One-way ANOVA test** would be used to compare the three population means provided normality and equality of variance assumptions are verified.\n",
        "\n",
        "**One-way ANOVA Test**\n",
        "\n",
        "In a one-way ANOVA test, we compare the means from several populations to test if there is any significance difference between them. The results from an ANOVA test are most reliable when the assumptions of normality and equality of variances are satisfied.\n",
        "\n",
        "For testing of normality, Shapiro-Wilk’s test is applied to the response variable.\n",
        "\n",
        "For equality of variance, Levene test is applied to the response variable."
      ],
      "metadata": {
        "id": "41LUpo_TWVZI"
      },
      "id": "41LUpo_TWVZI"
    },
    {
      "cell_type": "markdown",
      "source": [
        "**Shapiro-Wilk’s test**\n",
        "\n",
        "We will test the null hypothesis\n",
        "\n",
        ">$H_0:$ The mean value with respect to each preferred language follow a normal distribution\n",
        "\n",
        "against the alternative hypothesis\n",
        "\n",
        ">$H_a:$ The mean value with respect to the three preferred language do not not follow a normal distribution"
      ],
      "metadata": {
        "id": "icghSEEgWoeA"
      },
      "id": "icghSEEgWoeA"
    },
    {
      "cell_type": "code",
      "source": [
        "# Assumption 1: Normality\n",
        "# Use the shapiro function for the scipy.stats library for this test\n",
        "\n",
        "a,b = 1,2\n",
        "a=1\n",
        "b=2\n",
        "\n",
        "# find the p-value\n",
        "w, p_value = stats.shapiro(df['time_spent_on_the_page']) \n",
        "print('The p-value is', p_value)"
      ],
      "metadata": {
        "colab": {
          "base_uri": "https://localhost:8080/"
        },
        "id": "YzPy8lP8XbUB",
        "outputId": "c455a982-313b-492e-f497-461ffee706d0"
      },
      "id": "YzPy8lP8XbUB",
      "execution_count": null,
      "outputs": [
        {
          "output_type": "stream",
          "name": "stdout",
          "text": [
            "The p-value is 0.5643684267997742\n"
          ]
        }
      ]
    },
    {
      "cell_type": "markdown",
      "source": [
        "Since p-value of the test is very large than the 5% significance level, we fail to reject the null hypothesis that the response follows the normal distribution."
      ],
      "metadata": {
        "id": "drpsFl0laTtl"
      },
      "id": "drpsFl0laTtl"
    },
    {
      "cell_type": "markdown",
      "source": [
        "**Levene’s test**\n",
        "\n",
        "We will test the null hypothesis\n",
        "\n",
        ">$H_0$: All the population variances are equal\n",
        "\n",
        "against the alternative hypothesis\n",
        "\n",
        ">$H_a$: At least one variance is different from the rest"
      ],
      "metadata": {
        "id": "hjPgfxQKa1tR"
      },
      "id": "hjPgfxQKa1tR"
    },
    {
      "cell_type": "code",
      "source": [
        "#Assumption 2: Homogeneity of Variance\n",
        "# use levene function from scipy.stats library for this test\n",
        "\n",
        "# find the p-value\n",
        "statistic, p_value = stats.levene(df[df['language_preferred']=='Spanish']['time_spent_on_the_page'],\n",
        "                            df[df['language_preferred']=='English']['time_spent_on_the_page'],\n",
        "                            df[df['language_preferred']=='French']['time_spent_on_the_page'])\n",
        "print('The p-value is', p_value)"
      ],
      "metadata": {
        "colab": {
          "base_uri": "https://localhost:8080/"
        },
        "id": "SHucmmT6bUHr",
        "outputId": "0973a3bf-0d41-44a1-c6aa-5910044c6167"
      },
      "id": "SHucmmT6bUHr",
      "execution_count": null,
      "outputs": [
        {
          "output_type": "stream",
          "name": "stdout",
          "text": [
            "The p-value is 0.06515086840327314\n"
          ]
        }
      ]
    },
    {
      "cell_type": "markdown",
      "source": [
        "Since the p-value is greater than the 5% significance level, we fail to reject the null hypothesis of homogeneity of variances."
      ],
      "metadata": {
        "id": "R_aVWn51bZXw"
      },
      "id": "R_aVWn51bZXw"
    },
    {
      "cell_type": "markdown",
      "source": [
        "### Deciding the significance level"
      ],
      "metadata": {
        "id": "h83TjWehbtG6"
      },
      "id": "h83TjWehbtG6"
    },
    {
      "cell_type": "markdown",
      "source": [
        "As given in the problem statement, we select $\\alpha = 0.05$."
      ],
      "metadata": {
        "id": "bOZGdqxEbuyg"
      },
      "id": "bOZGdqxEbuyg"
    },
    {
      "cell_type": "markdown",
      "source": [
        "### Collecting and preparing data"
      ],
      "metadata": {
        "id": "FGDad9p7clyV"
      },
      "id": "FGDad9p7clyV"
    },
    {
      "cell_type": "code",
      "source": [
        "# creating separate variables to store the weightlosses with respect to the three preferred languages\n",
        "weightloss_diet_A = df[df['language_preferred']=='Spanish']['time_spent_on_the_page']\n",
        "weightloss_diet_B = df[df['language_preferred']=='English']['time_spent_on_the_page']\n",
        "weightloss_diet_C = df[df['language_preferred']=='French']['time_spent_on_the_page']"
      ],
      "metadata": {
        "id": "GX-zQjsSuJ0h"
      },
      "id": "GX-zQjsSuJ0h",
      "execution_count": null,
      "outputs": []
    },
    {
      "cell_type": "markdown",
      "source": [
        "### Calculating the p-value"
      ],
      "metadata": {
        "id": "rfJaBZSAcEqh"
      },
      "id": "rfJaBZSAcEqh"
    },
    {
      "cell_type": "code",
      "source": [
        "# import the required function\n",
        "from scipy.stats import f_oneway\n",
        "\n",
        "# find the p-value\n",
        "test_stat, p_value = f_oneway(time_spent_English, time_spent_French, time_spent_Spanish)\n",
        "print('The p-value is ', p_value)"
      ],
      "metadata": {
        "colab": {
          "base_uri": "https://localhost:8080/"
        },
        "id": "GOrIYh-yvX5b",
        "outputId": "82333f03-c15e-4765-c4b4-603ba0b09506"
      },
      "id": "GOrIYh-yvX5b",
      "execution_count": null,
      "outputs": [
        {
          "output_type": "stream",
          "name": "stdout",
          "text": [
            "The p-value is  0.43204138694325955\n"
          ]
        }
      ]
    },
    {
      "cell_type": "markdown",
      "source": [
        "### Comparing the p-value with $\\alpha$"
      ],
      "metadata": {
        "id": "FMYhITTvcZEW"
      },
      "id": "FMYhITTvcZEW"
    },
    {
      "cell_type": "code",
      "source": [
        "# print the conclusion based on p-value\n",
        "if p_value < 0.05:\n",
        "    print(f'As the p-value {p_value} is less than the level of significance, we reject the null hypothesis.')\n",
        "else:\n",
        "    print(f'As the p-value {p_value} is greater than the level of significance, we fail to reject the null hypothesis.')"
      ],
      "metadata": {
        "id": "dQMpzFJHT8zY",
        "colab": {
          "base_uri": "https://localhost:8080/"
        },
        "outputId": "dfa636be-cd4c-46e9-c8ce-39eacf764f11"
      },
      "id": "dQMpzFJHT8zY",
      "execution_count": null,
      "outputs": [
        {
          "output_type": "stream",
          "name": "stdout",
          "text": [
            "As the p-value 0.43204138694325955 is greater than the level of significance, we fail to reject the null hypothesis.\n"
          ]
        }
      ]
    },
    {
      "cell_type": "markdown",
      "source": [
        "### Drawing inference"
      ],
      "metadata": {
        "id": "tRAAkwYQWj1Q"
      },
      "id": "tRAAkwYQWj1Q"
    },
    {
      "cell_type": "markdown",
      "source": [
        "Since the p-value is greater than the level of significance (5%), we fail to reject the null hypothesis. Hence, we don't have enough statistical evidence to say that the the mean value with respect to each category of the preferred language is equal."
      ],
      "metadata": {
        "id": "ZDGcwfqTwDGs"
      },
      "id": "ZDGcwfqTwDGs"
    },
    {
      "cell_type": "markdown",
      "metadata": {
        "id": "3acbc947"
      },
      "source": [
        "## Conclusion and Business Recommendations"
      ],
      "id": "3acbc947"
    },
    {
      "cell_type": "markdown",
      "source": [
        "* Users spend more time on the new landing page than the old landing page which is an indication that recommended content on the new landing page is likely to keep customers engage long enough to enable them them subscribe\n",
        "* Conversion status is independent of the language preferred which is an indication that irrespective of the preferred language, recommended contents on the new landing page are engaging\n",
        "* Conversion rate of the new landing page is higher than the conversion rate of the old landing page which is an indication that the new landing page is likely to attract new subscribers than the old landing page\n",
        "* The recommendation is that the E-News company maintais the new landing page to attract more subscribers as users spend more time on an engaging page, it would leads to customer conversion."
      ],
      "metadata": {
        "id": "g9fHKQsuI-pr"
      },
      "id": "g9fHKQsuI-pr"
    }
  ]
}